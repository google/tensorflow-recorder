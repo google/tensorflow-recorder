{
 "cells": [
  {
   "cell_type": "markdown",
   "metadata": {},
   "source": [
    "# Convert structured data to TFRecords "
   ]
  },
  {
   "cell_type": "code",
   "execution_count": null,
   "metadata": {},
   "outputs": [],
   "source": [
    "%load_ext autoreload\n",
    "%autoreload 2"
   ]
  },
  {
   "cell_type": "code",
   "execution_count": null,
   "metadata": {},
   "outputs": [],
   "source": [
    "import pandas as pd\n",
    "import pathlib\n",
    "\n",
    "import tensorflow as tf\n",
    "\n",
    "import tfrecorder\n",
    "from tfrecorder import input_schema\n",
    "from tfrecorder import types"
   ]
  },
  {
   "cell_type": "markdown",
   "metadata": {},
   "source": [
    "## Load [Titanic](https://www.openml.org/d/40945) dataset "
   ]
  },
  {
   "cell_type": "code",
   "execution_count": null,
   "metadata": {},
   "outputs": [],
   "source": [
    "data_path = pathlib.Path('/tmp/datasets/titanic.csv')\n",
    "if not data_path.exists():\n",
    "  tf.keras.utils.get_file(\n",
    "      'titanic.csv',\n",
    "      origin='https://web.stanford.edu/class/archive/cs/cs109/cs109.1166/stuff/titanic.csv',\n",
    "      extract=False,\n",
    "      cache_dir='/tmp', cache_subdir='datasets')\n",
    "  \n",
    "assert data_path.exists()"
   ]
  },
  {
   "cell_type": "code",
   "execution_count": null,
   "metadata": {},
   "outputs": [],
   "source": [
    "df = pd.read_csv(str(data_path))"
   ]
  },
  {
   "cell_type": "markdown",
   "metadata": {},
   "source": [
    "## Add `split` column "
   ]
  },
  {
   "cell_type": "code",
   "execution_count": null,
   "metadata": {},
   "outputs": [],
   "source": [
    "df['split'] = 'train'\n",
    "df.head()"
   ]
  },
  {
   "cell_type": "markdown",
   "metadata": {},
   "source": [
    "## Convert to TFRecords "
   ]
  },
  {
   "cell_type": "code",
   "execution_count": null,
   "metadata": {},
   "outputs": [],
   "source": [
    "results = tfrecorder.convert(\n",
    "    df, \n",
    "    './tfrecords', \n",
    "    schema=input_schema.Schema({\n",
    "        'Survived': types.IntegerInput,\n",
    "        'Pclass': types.IntegerInput,\n",
    "        'Name': types.StringInput,\n",
    "        'Sex': types.StringInput,\n",
    "        'Age': types.FloatInput,\n",
    "        'Siblings/Spouses Aboard': types.IntegerInput,\n",
    "        'Parents/Children Aboard': types.IntegerInput,\n",
    "        'Fare': types.FloatInput,\n",
    "        'split': types.SplitKey,\n",
    "    })\n",
    ")"
   ]
  },
  {
   "cell_type": "code",
   "execution_count": null,
   "metadata": {},
   "outputs": [],
   "source": [
    "print(results)"
   ]
  },
  {
   "cell_type": "markdown",
   "metadata": {},
   "source": [
    "## Load a dataset from the generated TFRecord files "
   ]
  },
  {
   "cell_type": "code",
   "execution_count": null,
   "metadata": {},
   "outputs": [],
   "source": [
    "datasets = tfrecorder.load(results['tfrecord_dir'])"
   ]
  },
  {
   "cell_type": "code",
   "execution_count": null,
   "metadata": {},
   "outputs": [],
   "source": [
    "for x in datasets['train'].take(1):\n",
    "  for k, v in x.items():\n",
    "    print(f'{k}: {v.dtype}')"
   ]
  }
 ],
 "metadata": {
  "kernelspec": {
   "display_name": "Python 3",
   "language": "python",
   "name": "python3"
  },
  "language_info": {
   "codemirror_mode": {
    "name": "ipython",
    "version": 3
   },
   "file_extension": ".py",
   "mimetype": "text/x-python",
   "name": "python",
   "nbconvert_exporter": "python",
   "pygments_lexer": "ipython3",
   "version": "3.8.5"
  }
 },
 "nbformat": 4,
 "nbformat_minor": 4
}
